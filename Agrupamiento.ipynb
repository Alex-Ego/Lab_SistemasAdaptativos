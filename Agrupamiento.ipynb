{
  "nbformat": 4,
  "nbformat_minor": 0,
  "metadata": {
    "colab": {
      "name": "Agrupamiento.ipynb",
      "version": "0.3.2",
      "provenance": [],
      "collapsed_sections": [],
      "include_colab_link": true
    },
    "kernelspec": {
      "name": "python3",
      "display_name": "Python 3"
    }
  },
  "cells": [
    {
      "cell_type": "markdown",
      "metadata": {
        "id": "view-in-github",
        "colab_type": "text"
      },
      "source": [
        "<a href=\"https://colab.research.google.com/github/Alex-SCG/Lab_SistemasAdaptativos/blob/master/Agrupamiento.ipynb\" target=\"_parent\"><img src=\"https://colab.research.google.com/assets/colab-badge.svg\" alt=\"Open In Colab\"/></a>"
      ]
    },
    {
      "cell_type": "markdown",
      "metadata": {
        "id": "NyYxVNDFG-w0",
        "colab_type": "text"
      },
      "source": [
        "# Ejercicio Agrupamiento\n",
        "1.- Genera 3 vectores de carcaterísticas  para un contexto particular.\n",
        "    Utiliza solamente 2 caracteristicas para describirlas\n",
        "### Contexto: Minerales del Minecraft (Enfocado en Picos)\n",
        "\n",
        "  | Caracterisicas/Vectores |  Valores | Resistencia  |\n",
        "| --- | --- | --- |\n",
        "| Diamante | 1 | 1 |\n",
        "| Oro | 0.75 | 0.1 |\n",
        "| Hierro | 0.25 | 0.25 |"
      ]
    },
    {
      "cell_type": "code",
      "metadata": {
        "id": "ICwda4edJatE",
        "colab_type": "code",
        "outputId": "f2553126-4c20-402c-a185-362608473a81",
        "colab": {
          "base_uri": "https://localhost:8080/",
          "height": 72
        }
      },
      "source": [
        "from math import *\n",
        "def euclidian(p1, p2):\n",
        "  x1 = p1[0]\n",
        "  x2 = p2[0]\n",
        "  y1 = p1[1]\n",
        "  y2 = p2[1]\n",
        "  distance = sqrt(((x1-y1)**2)+((x2-y2)**2))\n",
        "  return(distance)\n",
        "\n",
        "diamante = [1, 1]\n",
        "oro = [0.75, 0.1]\n",
        "hierro = [0.25, 0.25]\n",
        "\n",
        "print(euclidian(diamante, oro))\n",
        "print(euclidian(diamante, hierro))\n",
        "print(euclidian(oro, hierro))"
      ],
      "execution_count": 0,
      "outputs": [
        {
          "output_type": "stream",
          "text": [
            "0.65\n",
            "0.0\n",
            "0.65\n"
          ],
          "name": "stdout"
        }
      ]
    },
    {
      "cell_type": "markdown",
      "metadata": {
        "id": "bbunlFWcQ8D9",
        "colab_type": "text"
      },
      "source": [
        "2.- Sacar la distancia del color asignado a cada centroide RGB\n",
        "\n",
        "### <font color = \"rgb(50, 239, 94)\">Color asignado (50, 239, 94)</font>\n",
        "\n",
        "\n",
        "\n",
        "  | Caracterisicas/Vectores |  R | G | B |\n",
        "| --- | --- | --- | --- |\n",
        "| Color asignado | 50 | 239 | 94 |\n",
        "| Rojo | 255 | 0 | 0 |\n",
        "| Verde | 0 | 255 | 0 |\n",
        "| Azul | 0 | 0 | 255 |\n",
        " "
      ]
    },
    {
      "cell_type": "code",
      "metadata": {
        "id": "lCj2lV3vSswv",
        "colab_type": "code",
        "outputId": "aec4878d-eec6-4564-d07c-4b02e9c92467",
        "colab": {
          "base_uri": "https://localhost:8080/",
          "height": 72
        }
      },
      "source": [
        "from math import *\n",
        "def euclidian3(p1, p2):\n",
        "  x1 = p1[0]\n",
        "  x2 = p2[0]\n",
        "  y1 = p1[1]\n",
        "  y2 = p2[1]\n",
        "  z1 = p1[2]\n",
        "  z2 = p2[2]\n",
        "  distance = sqrt(((x1-x2)**2)+((y1-y2)**2)+((z1-z2)**2))\n",
        "  return(distance)\n",
        "\n",
        "ca = [50, 239, 94]\n",
        "rojo = [255, 0, 0]\n",
        "verde = [0, 255, 0]\n",
        "azul = [0, 0, 255]\n",
        "\n",
        "print(euclidian3(ca, rojo))\n",
        "print(euclidian3(ca, verde))\n",
        "print(euclidian3(ca, azul))"
      ],
      "execution_count": 0,
      "outputs": [
        {
          "output_type": "stream",
          "text": [
            "328.60614723404063\n",
            "107.66615066955816\n",
            "292.4756400112666\n"
          ],
          "name": "stdout"
        }
      ]
    }
  ]
}